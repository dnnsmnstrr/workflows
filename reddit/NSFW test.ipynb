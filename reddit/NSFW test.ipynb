{
 "cells": [
  {
   "cell_type": "code",
   "execution_count": 4,
   "metadata": {},
   "outputs": [],
   "source": [
    "import json\n",
    "from urllib import urlopen\n",
    "\n",
    "url = 'https://www.reddit.com/subreddits/popular.json?limit=100'\n",
    "url_nsfw = 'https://www.reddit.com/subreddits/popular.json?limit=100&include_over_18=1'\n",
    "\n",
    "def fetch(url):\n",
    "    fp = urlopen(url)\n",
    "    d = json.load(fp)\n",
    "    return d['data']['children']\n",
    "\n",
    "popular = fetch(url)\n",
    "nsfw = fetch(url_nsfw)\n"
   ]
  },
  {
   "cell_type": "code",
   "execution_count": 5,
   "metadata": {},
   "outputs": [
    {
     "name": "stdout",
     "output_type": "stream",
     "text": [
      "100\n",
      "100\n"
     ]
    }
   ],
   "source": [
    "print len(popular)\n",
    "print len(nsfw)"
   ]
  },
  {
   "cell_type": "code",
   "execution_count": 7,
   "metadata": {},
   "outputs": [],
   "source": [
    "pnames = {d['data']['display_name'] for d in popular}\n",
    "nnames = {d['data']['display_name'] for d in nsfw}"
   ]
  },
  {
   "cell_type": "code",
   "execution_count": 9,
   "metadata": {},
   "outputs": [
    {
     "data": {
      "text/plain": [
       "set()"
      ]
     },
     "execution_count": 9,
     "metadata": {},
     "output_type": "execute_result"
    }
   ],
   "source": [
    "nnames - pnames"
   ]
  },
  {
   "cell_type": "code",
   "execution_count": null,
   "metadata": {},
   "outputs": [],
   "source": []
  }
 ],
 "metadata": {
  "kernelspec": {
   "display_name": "Python 2",
   "language": "python",
   "name": "python2"
  },
  "language_info": {
   "codemirror_mode": {
    "name": "ipython",
    "version": 2
   },
   "file_extension": ".py",
   "mimetype": "text/x-python",
   "name": "python",
   "nbconvert_exporter": "python",
   "pygments_lexer": "ipython2",
   "version": "2.7.15"
  }
 },
 "nbformat": 4,
 "nbformat_minor": 2
}
